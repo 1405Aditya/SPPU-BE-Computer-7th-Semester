{
 "cells": [
  {
   "cell_type": "code",
   "execution_count": 5,
   "id": "cc962dea-e662-4c2e-a533-453602116f5f",
   "metadata": {},
   "outputs": [
    {
     "name": "stdout",
     "output_type": "stream",
     "text": [
      "Solution for 8-Queens problem with first queen in row 2:\n",
      ". Q . . . . . .\n",
      ". . . . . Q . .\n",
      "Q . . . . . . .\n",
      ". . . . . . Q .\n",
      ". . . Q . . . .\n",
      ". . . . . . . Q\n",
      ". . Q . . . . .\n",
      ". . . . Q . . .\n",
      "\n"
     ]
    },
    {
     "data": {
      "text/plain": [
       "True"
      ]
     },
     "execution_count": 5,
     "metadata": {},
     "output_type": "execute_result"
    }
   ],
   "source": [
    "# Design 8-Queens matrix having first Queen placed. Use backtracking to place remaining Queens to generate the final n-queen’s matrix.\n",
    "import copy\n",
    "\n",
    "def print_board(board):\n",
    "    for row in board:\n",
    "        print(' '.join(['Q' if x else '.' for x in row]))\n",
    "    print()\n",
    "\n",
    "def is_safe(board, row, col, n):\n",
    "    # Check this row on left side\n",
    "    for i in range(col):\n",
    "        if board[row][i]:\n",
    "            return False\n",
    "    \n",
    "    # Check upper diagonal on left side\n",
    "    for i, j in zip(range(row, -1, -1), range(col, -1, -1)):\n",
    "        if board[i][j]:\n",
    "            return False\n",
    "    \n",
    "    # Check lower diagonal on left side\n",
    "    for i, j in zip(range(row, n, 1), range(col, -1, -1)):\n",
    "        if board[i][j]:\n",
    "            return False\n",
    "    \n",
    "    return True\n",
    "\n",
    "def solve_n_queens_util(board, col, n):\n",
    "    if col >= n:\n",
    "        return True\n",
    "    \n",
    "    for i in range(n):\n",
    "        if is_safe(board, i, col, n):\n",
    "            board[i][col] = 1\n",
    "            if solve_n_queens_util(board, col + 1, n):\n",
    "                return True\n",
    "            board[i][col] = 0\n",
    "    \n",
    "    return False\n",
    "\n",
    "def solve_n_queens(n, first_queen_row):\n",
    "    board = [[0 for _ in range(n)] for _ in range(n)]\n",
    "    \n",
    "    # Place the first queen\n",
    "    board[first_queen_row][0] = 1\n",
    "    \n",
    "    if solve_n_queens_util(board, 1, n) == False:\n",
    "        print(\"Solution does not exist\")\n",
    "        return False\n",
    "    \n",
    "    print_board(board)\n",
    "    return True\n",
    "\n",
    "# Driver Code\n",
    "n = 8  # Change this to the desired board size\n",
    "first_queen_row = 2  # Change this to place the first queen in a different row\n",
    "\n",
    "print(f\"Solution for {n}-Queens problem with first queen in row {first_queen_row}:\")\n",
    "solve_n_queens(n, first_queen_row)"
   ]
  }
 ],
 "metadata": {
  "kernelspec": {
   "display_name": "Python 3 (ipykernel)",
   "language": "python",
   "name": "python3"
  },
  "language_info": {
   "codemirror_mode": {
    "name": "ipython",
    "version": 3
   },
   "file_extension": ".py",
   "mimetype": "text/x-python",
   "name": "python",
   "nbconvert_exporter": "python",
   "pygments_lexer": "ipython3",
   "version": "3.11.5"
  }
 },
 "nbformat": 4,
 "nbformat_minor": 5
}
