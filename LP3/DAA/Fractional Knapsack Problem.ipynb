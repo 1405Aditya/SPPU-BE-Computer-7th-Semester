{
 "cells": [
  {
   "cell_type": "code",
   "execution_count": 3,
   "id": "cc962dea-e662-4c2e-a533-453602116f5f",
   "metadata": {},
   "outputs": [
    {
     "name": "stdout",
     "output_type": "stream",
     "text": [
      "Maximum value we can obtain = 240.0\n"
     ]
    }
   ],
   "source": [
    "# 3. Write a program to solve a fractional Knapsack problem using a greedy method.\n",
    "\n",
    "# Class to represent an item with value and weight\n",
    "class Item:\n",
    "    def __init__(self, value, weight):\n",
    "        self.value = value\n",
    "        self.weight = weight\n",
    "\n",
    "# Function to calculate the maximum value that can be carried\n",
    "def fractional_knapsack(items, capacity):\n",
    "    # Sort items by value-to-weight ratio in descending order\n",
    "    items.sort(key=lambda item: item.value / item.weight, reverse=True)\n",
    "    total_value = 0.0  # To store the total value\n",
    "    for item in items:\n",
    "        if capacity >= item.weight:\n",
    "            # If the item can fit in the remaining capacity, take it all\n",
    "            capacity -= item.weight\n",
    "            total_value += item.value\n",
    "        else:\n",
    "            # Otherwise, take the fraction of the item that fits\n",
    "            fraction = capacity / item.weight\n",
    "            total_value += item.value * fraction\n",
    "            break  # The knapsack is full\n",
    "    return total_value\n",
    "\n",
    "# Driver code\n",
    "if __name__ == \"__main__\":\n",
    "    # List of items (value, weight)\n",
    "    items = [Item(60, 10), Item(100, 20), Item(120, 30)]\n",
    "    # Capacity of the knapsack\n",
    "    capacity = 50\n",
    "    # Calculate and print the maximum value\n",
    "    max_value = fractional_knapsack(items, capacity)\n",
    "    print(f\"Maximum value we can obtain = {max_value}\")"
   ]
  }
 ],
 "metadata": {
  "kernelspec": {
   "display_name": "Python 3 (ipykernel)",
   "language": "python",
   "name": "python3"
  },
  "language_info": {
   "codemirror_mode": {
    "name": "ipython",
    "version": 3
   },
   "file_extension": ".py",
   "mimetype": "text/x-python",
   "name": "python",
   "nbconvert_exporter": "python",
   "pygments_lexer": "ipython3",
   "version": "3.11.5"
  }
 },
 "nbformat": 4,
 "nbformat_minor": 5
}
