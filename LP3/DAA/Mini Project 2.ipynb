{
 "cells": [
  {
   "cell_type": "code",
   "execution_count": 1,
   "id": "cc962dea-e662-4c2e-a533-453602116f5f",
   "metadata": {},
   "outputs": [
    {
     "name": "stdout",
     "output_type": "stream",
     "text": [
      "Sorted array: [3, 9, 10, 27, 38, 43, 82]\n",
      "Sorted array (parallel): [3, 9, 10, 27, 38, 43, 82]\n"
     ]
    }
   ],
   "source": [
    "def merge_sort(arr):\n",
    "    if len(arr) <= 1:\n",
    "        return arr\n",
    "\n",
    "    # Split the array into two halves\n",
    "    mid = len(arr) // 2\n",
    "    left_half = merge_sort(arr[:mid])\n",
    "    right_half = merge_sort(arr[mid:])\n",
    "\n",
    "    # Merge the sorted halves\n",
    "    return merge(left_half, right_half)\n",
    "\n",
    "def merge(left, right):\n",
    "    result = []\n",
    "    left_idx, right_idx = 0, 0\n",
    "\n",
    "    # Compare elements from both halves and merge them in sorted order\n",
    "    while left_idx < len(left) and right_idx < len(right):\n",
    "        if left[left_idx] < right[right_idx]:\n",
    "            result.append(left[left_idx])\n",
    "            left_idx += 1\n",
    "        else:\n",
    "            result.append(right[right_idx])\n",
    "            right_idx += 1\n",
    "\n",
    "    # Add remaining elements\n",
    "    result.extend(left[left_idx:])\n",
    "    result.extend(right[right_idx:])\n",
    "    return result\n",
    "\n",
    "# Example usage\n",
    "arr = [38, 27, 43, 3, 9, 82, 10]\n",
    "sorted_arr = merge_sort(arr)\n",
    "print(\"Sorted array:\", sorted_arr)\n",
    "\n",
    "import concurrent.futures\n",
    "\n",
    "def merge_sort_parallel(arr):\n",
    "    if len(arr) <= 1:\n",
    "        return arr\n",
    "\n",
    "    mid = len(arr) // 2\n",
    "\n",
    "    # Split the work between two threads\n",
    "    with concurrent.futures.ThreadPoolExecutor() as executor:\n",
    "        left_future = executor.submit(merge_sort_parallel, arr[:mid])\n",
    "        right_future = executor.submit(merge_sort_parallel, arr[mid:])\n",
    "\n",
    "        left_half = left_future.result()\n",
    "        right_half = right_future.result()\n",
    "\n",
    "    return merge(left_half, right_half)\n",
    "\n",
    "def merge(left, right):\n",
    "    result = []\n",
    "    left_idx, right_idx = 0, 0\n",
    "\n",
    "    while left_idx < len(left) and right_idx < len(right):\n",
    "        if left[left_idx] < right[right_idx]:\n",
    "            result.append(left[left_idx])\n",
    "            left_idx += 1\n",
    "        else:\n",
    "            result.append(right[right_idx])\n",
    "            right_idx += 1\n",
    "\n",
    "    result.extend(left[left_idx:])\n",
    "    result.extend(right[right_idx:])\n",
    "    return result\n",
    "\n",
    "# Example usage\n",
    "arr = [38, 27, 43, 3, 9, 82, 10]\n",
    "sorted_arr = merge_sort_parallel(arr)\n",
    "print(\"Sorted array (parallel):\", sorted_arr)\n"
   ]
  }
 ],
 "metadata": {
  "kernelspec": {
   "display_name": "Python 3 (ipykernel)",
   "language": "python",
   "name": "python3"
  },
  "language_info": {
   "codemirror_mode": {
    "name": "ipython",
    "version": 3
   },
   "file_extension": ".py",
   "mimetype": "text/x-python",
   "name": "python",
   "nbconvert_exporter": "python",
   "pygments_lexer": "ipython3",
   "version": "3.11.5"
  }
 },
 "nbformat": 4,
 "nbformat_minor": 5
}
