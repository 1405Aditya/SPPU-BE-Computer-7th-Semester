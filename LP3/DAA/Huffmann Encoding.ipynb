{
 "cells": [
  {
   "cell_type": "code",
   "execution_count": 2,
   "id": "cc962dea-e662-4c2e-a533-453602116f5f",
   "metadata": {},
   "outputs": [
    {
     "name": "stdout",
     "output_type": "stream",
     "text": [
      "Encoded Data: 0000010111001100001111110010100111001101011100111010001100010010100111011011110011011111011011\n",
      "Decoded Data: huffman encoding example\n"
     ]
    }
   ],
   "source": [
    "# 2. Write a program to implement Huffman Encoding using a greedy strategy.\n",
    "\n",
    "import heapq\n",
    "# Node structure for Huffman Tree\n",
    "class HuffmanNode:\n",
    "    def __init__(self, char, freq):\n",
    "        self.char = char\n",
    "        self.freq = freq\n",
    "        self.left = None\n",
    "        self.right = None\n",
    "    # Defining less than operator for priority queue comparison\n",
    "    def __lt__(self, other):\n",
    "        return self.freq < other.freq\n",
    "# Function to generate Huffman codes\n",
    "def generate_codes(root, current_code, codes):\n",
    "    if root is None:\n",
    "        return\n",
    "    if root.char is not None:\n",
    "        codes[root.char] = current_code\n",
    "    generate_codes(root.left, current_code + \"0\", codes)\n",
    "    generate_codes(root.right, current_code + \"1\", codes)\n",
    "# Function to build Huffman Tree\n",
    "def build_huffman_tree(frequency):\n",
    "    heap = []\n",
    "    # Insert all characters with their frequencies into the heap\n",
    "    for char, freq in frequency.items():\n",
    "        heapq.heappush(heap, HuffmanNode(char, freq))\n",
    "    # Merge nodes until we have one tree\n",
    "    while len(heap) > 1:\n",
    "        node1 = heapq.heappop(heap)\n",
    "        node2 = heapq.heappop(heap)\n",
    "        # Create a new internal node with the combined frequency\n",
    "        merged = HuffmanNode(None, node1.freq + node2.freq)\n",
    "        merged.left = node1\n",
    "        merged.right = node2\n",
    "        heapq.heappush(heap, merged)\n",
    "    # The root of the Huffman Tree\n",
    "    return heapq.heappop(heap)\n",
    "# Function to calculate frequency of characters\n",
    "def calculate_frequency(data):\n",
    "    frequency = {}\n",
    "\n",
    "    for char in data:\n",
    "        if char not in frequency:\n",
    "            frequency[char] = 0\n",
    "        frequency[char] += 1\n",
    "    return frequency\n",
    "# Huffman Encoding process\n",
    "def huffman_encoding(data):\n",
    "    frequency = calculate_frequency(data)\n",
    "    huffman_tree_root = build_huffman_tree(frequency)\n",
    "    codes = {}\n",
    "    generate_codes(huffman_tree_root, \"\", codes)\n",
    "    # Encode the input data\n",
    "    encoded_data = \"\".join([codes[char] for char in data])\n",
    "    return encoded_data, huffman_tree_root\n",
    "# Huffman Decoding process\n",
    "def huffman_decoding(encoded_data, huffman_tree_root):\n",
    "    decoded_data = \"\"\n",
    "    current_node = huffman_tree_root\n",
    "    for bit in encoded_data:\n",
    "        if bit == '0':\n",
    "            current_node = current_node.left\n",
    "        else:\n",
    "            current_node = current_node.right\n",
    "        if current_node.left is None and current_node.right is None:\n",
    "            decoded_data += current_node.char\n",
    "            current_node = huffman_tree_root\n",
    "    return decoded_data\n",
    "# Driver code\n",
    "if __name__ == \"__main__\":\n",
    "    data = \"huffman encoding example\"\n",
    "    encoded_data, huffman_tree_root = huffman_encoding(data)\n",
    "    print(f\"Encoded Data: {encoded_data}\")\n",
    "    decoded_data = huffman_decoding(encoded_data, huffman_tree_root)\n",
    "    print(f\"Decoded Data: {decoded_data}\")"
   ]
  }
 ],
 "metadata": {
  "kernelspec": {
   "display_name": "Python 3 (ipykernel)",
   "language": "python",
   "name": "python3"
  },
  "language_info": {
   "codemirror_mode": {
    "name": "ipython",
    "version": 3
   },
   "file_extension": ".py",
   "mimetype": "text/x-python",
   "name": "python",
   "nbconvert_exporter": "python",
   "pygments_lexer": "ipython3",
   "version": "3.12.4"
  }
 },
 "nbformat": 4,
 "nbformat_minor": 5
}
