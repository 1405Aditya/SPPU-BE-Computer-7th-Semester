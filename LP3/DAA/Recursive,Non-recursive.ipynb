{
 "cells": [
  {
   "cell_type": "code",
   "execution_count": 1,
   "id": "cc962dea-e662-4c2e-a533-453602116f5f",
   "metadata": {},
   "outputs": [
    {
     "name": "stdout",
     "output_type": "stream",
     "text": [
      "Fibonacci for first 10 numbers is ( non recursive ):  55\n",
      "Fibonacci for first 10 numbers is ( recursive ): 55\n"
     ]
    }
   ],
   "source": [
    "# Write a program non-recursive and recursive program to calculate Fibonacci numbers and\n",
    "# analyze their time and space complexity.\n",
    "\n",
    "\n",
    "# 1. Non Recursive\n",
    "def fibonacci_non_recursive(n):\n",
    "    if n == 0:\n",
    "        return 0\n",
    "    elif n == 1:\n",
    "        return 1\n",
    "    a, b = 0, 1\n",
    "    for i in range(2, n + 1):\n",
    "        fib = a + b\n",
    "        a = b\n",
    "        b = fib\n",
    "    return b\n",
    "\n",
    "print(\"Fibonacci for first 10 numbers is ( non recursive ): \", fibonacci_non_recursive(10))\n",
    "\n",
    "def fibonacci_recursive(n):\n",
    "    if (n == 0):\n",
    "        return 0\n",
    "    elif (n == 1):\n",
    "        return 1\n",
    "    else:\n",
    "        return fibonacci_recursive(n - 1) + fibonacci_recursive(n - 2);\n",
    "\n",
    "print(\"Fibonacci for first 10 numbers is ( recursive ):\", fibonacci_recursive(10))"
   ]
  }
 ],
 "metadata": {
  "kernelspec": {
   "display_name": "Python 3 (ipykernel)",
   "language": "python",
   "name": "python3"
  },
  "language_info": {
   "codemirror_mode": {
    "name": "ipython",
    "version": 3
   },
   "file_extension": ".py",
   "mimetype": "text/x-python",
   "name": "python",
   "nbconvert_exporter": "python",
   "pygments_lexer": "ipython3",
   "version": "3.12.4"
  }
 },
 "nbformat": 4,
 "nbformat_minor": 5
}
