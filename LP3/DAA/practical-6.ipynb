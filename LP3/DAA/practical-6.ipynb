{
 "cells": [
  {
   "cell_type": "code",
   "execution_count": 6,
   "id": "cc962dea-e662-4c2e-a533-453602116f5f",
   "metadata": {},
   "outputs": [
    {
     "name": "stdout",
     "output_type": "stream",
     "text": [
      "Sorted array: [10, 30, 40, 50, 70, 80, 90]\n",
      "Deterministic QuickSort Time: 0.0 seconds\n",
      "Sorted array: [10, 30, 40, 50, 70, 80, 90]\n",
      "Randomized QuickSort Time: 0.0 seconds\n"
     ]
    }
   ],
   "source": [
    "# Write a program for analysis of quick sort by using deterministic and randomized variant.\n",
    "\n",
    "# 1. Deterministic quick sort\n",
    "import time\n",
    "# Function to partition the array\n",
    "def partition(arr, low, high):\n",
    "    pivot = arr[high]  # Last element as pivot\n",
    "    i = low - 1\n",
    "    for j in range(low, high):\n",
    "        if arr[j] <= pivot:\n",
    "            i += 1\n",
    "            arr[i], arr[j] = arr[j], arr[i]\n",
    "    arr[i + 1], arr[high] = arr[high], arr[i + 1]\n",
    "    return i + 1\n",
    "\n",
    "# Deterministic QuickSort function\n",
    "def quicksort_deterministic(arr, low, high):\n",
    "    if low < high:\n",
    "        pi = partition(arr, low, high)\n",
    "        quicksort_deterministic(arr, low, pi - 1)\n",
    "        quicksort_deterministic(arr, pi + 1, high)\n",
    "\n",
    "# Main execution\n",
    "arr = [10, 80, 30, 90, 40, 50, 70]\n",
    "start = time.time()\n",
    "quicksort_deterministic(arr, 0, len(arr) - 1)\n",
    "\n",
    "end = time.time()\n",
    "print(f\"Sorted array: {arr}\")\n",
    "print(f\"Deterministic QuickSort Time: {end - start} seconds\")\n",
    "\n",
    "# ------------------------------------------------------------------ #\n",
    "\n",
    "# 2. Randomized variant\n",
    "import time\n",
    "import random\n",
    "\n",
    "# Function to partition the array with random pivot\n",
    "def randomized_partition(arr, low, high):\n",
    "    random_pivot = random.randint(low, high)\n",
    "    arr[random_pivot], arr[high] = arr[high], arr[random_pivot] # Swap random pivot with last element\n",
    "    return partition(arr, low, high)\n",
    "\n",
    "# Randomized QuickSort function\n",
    "def quicksort_randomized(arr, low, high):\n",
    "    if low < high:\n",
    "        pi = randomized_partition(arr, low, high)\n",
    "        quicksort_randomized(arr, low, pi - 1)\n",
    "        quicksort_randomized(arr, pi + 1, high)\n",
    "\n",
    "# Main execution\n",
    "arr = [10, 80, 30, 90, 40, 50, 70]\n",
    "start = time.time()\n",
    "quicksort_randomized(arr, 0, len(arr) - 1)\n",
    "end = time.time()\n",
    "print(f\"Sorted array: {arr}\")\n",
    "print(f\"Randomized QuickSort Time: {end - start} seconds\")"
   ]
  }
 ],
 "metadata": {
  "kernelspec": {
   "display_name": "Python 3 (ipykernel)",
   "language": "python",
   "name": "python3"
  },
  "language_info": {
   "codemirror_mode": {
    "name": "ipython",
    "version": 3
   },
   "file_extension": ".py",
   "mimetype": "text/x-python",
   "name": "python",
   "nbconvert_exporter": "python",
   "pygments_lexer": "ipython3",
   "version": "3.11.5"
  }
 },
 "nbformat": 4,
 "nbformat_minor": 5
}
